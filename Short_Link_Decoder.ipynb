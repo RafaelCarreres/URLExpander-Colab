{
  "nbformat": 4,
  "nbformat_minor": 0,
  "metadata": {
    "colab": {
      "provenance": []
    },
    "kernelspec": {
      "name": "python3",
      "display_name": "Python 3"
    },
    "language_info": {
      "name": "python"
    }
  },
  "cells": [
    {
      "cell_type": "code",
      "source": [
        "!pip install requests"
      ],
      "metadata": {
        "id": "707I3gzyRnto"
      },
      "execution_count": null,
      "outputs": []
    },
    {
      "cell_type": "code",
      "execution_count": null,
      "metadata": {
        "id": "lAtUS3ljRfvr"
      },
      "outputs": [],
      "source": [
        "import requests\n",
        "from requests.exceptions import RequestException, Timeout, SSLError\n",
        "\n",
        "def expand_url(short_url):\n",
        "    try:\n",
        "        session = requests.Session()\n",
        "        # Set a timeout for the request to avoid hanging indefinitely\n",
        "        resp = session.head(short_url, allow_redirects=True, timeout=5)\n",
        "        # Check if the response is successful (status codes 200-399)\n",
        "        if resp.ok:\n",
        "            return resp.url\n",
        "        else:\n",
        "            return \"Error: Unsuccessful response status code.\"\n",
        "    except Timeout:\n",
        "        return \"Error: Request timed out.\"\n",
        "    except SSLError:\n",
        "        return \"Error: SSL error occurred.\"\n",
        "    except RequestException as e:\n",
        "        return f\"Error: An exception occurred: {e}\""
      ]
    },
    {
      "cell_type": "code",
      "source": [
        "# Example usage\n",
        "shortened_url = input (\"Enter the shortened URL to expand: \")\n",
        "expanded_url = expand_url(shortened_url)\n",
        "print(\"Expanded URL:\", expanded_url)"
      ],
      "metadata": {
        "id": "6ng5Ybu1vdIq"
      },
      "execution_count": null,
      "outputs": []
    }
  ]
}